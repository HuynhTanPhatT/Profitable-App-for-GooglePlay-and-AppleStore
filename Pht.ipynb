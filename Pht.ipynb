{
 "cells": [
  {
   "cell_type": "markdown",
   "metadata": {},
   "source": [
    "# Profitable App Profiles for the App Store and Google Play Markets"
   ]
  },
  {
   "cell_type": "raw",
   "metadata": {},
   "source": [
    "Project Introduction: \n",
    "(@) I'm working as a Data Analyst for a foreign company and my mission is to analyze data on Google Play and Apple Store to determine what types of genres on two apps are likely to attract more users.\n",
    "(@) The company only builds apps that are free to download and install, and  designs them for English-Speaking audience."
   ]
  },
  {
   "cell_type": "markdown",
   "metadata": {},
   "source": [
    "# Opening datasets"
   ]
  },
  {
   "cell_type": "markdown",
   "metadata": {},
   "source": [
    "Let's open two datasets and explore the data inside each dataset"
   ]
  },
  {
   "cell_type": "code",
   "execution_count": 1,
   "metadata": {},
   "outputs": [],
   "source": [
    "def open_data(file_csv):\n",
    "    from csv import reader\n",
    "    open_file = open(file_csv)\n",
    "    read_file = reader(open_file)\n",
    "    dataset = list(read_file)\n",
    "    return dataset"
   ]
  },
  {
   "cell_type": "code",
   "execution_count": 2,
   "metadata": {},
   "outputs": [],
   "source": [
    "#Opening AppleStore dataset\n",
    "file_name = open_data('AppleStore.csv')\n",
    "header_app_store = file_name[0]\n",
    "app_store = file_name[1:]"
   ]
  },
  {
   "cell_type": "code",
   "execution_count": 3,
   "metadata": {},
   "outputs": [],
   "source": [
    "#Opening GooglePlay dataset\n",
    "file_name = open_data('googleplaystore.csv')\n",
    "header_google_play = file_name[0]\n",
    "google_play = file_name[1:]"
   ]
  },
  {
   "cell_type": "markdown",
   "metadata": {},
   "source": [
    "# Exploring data"
   ]
  },
  {
   "cell_type": "raw",
   "metadata": {},
   "source": [
    "To make the table easier to read, I create the explore() function to show rows starting by header and ending with a row you want, as well as showing the total number of apps."
   ]
  },
  {
   "cell_type": "code",
   "execution_count": 4,
   "metadata": {},
   "outputs": [],
   "source": [
    "def explore_data(dataset,start,end,rows_and_columns=False):\n",
    "    data_slice = dataset[start:end]\n",
    "    for space in data_slice:\n",
    "        print(space)\n",
    "        print('\\n')\n",
    "    if rows_and_columns ==True:\n",
    "        print(\"Number of columns:\",len(dataset[0]))\n",
    "        print(\"Number of rows:\",len(dataset))"
   ]
  },
  {
   "cell_type": "code",
   "execution_count": 5,
   "metadata": {},
   "outputs": [
    {
     "name": "stdout",
     "output_type": "stream",
     "text": [
      "['id', 'track_name', 'size_bytes', 'currency', 'price', 'rating_count_tot', 'rating_count_ver', 'user_rating', 'user_rating_ver', 'ver', 'cont_rating', 'prime_genre', 'sup_devices.num', 'ipadSc_urls.num', 'lang.num', 'vpp_lic']\n",
      "\n",
      "\n",
      "['284882215', 'Facebook', '389879808', 'USD', '0.0', '2974676', '212', '3.5', '3.5', '95.0', '4+', 'Social Networking', '37', '1', '29', '1']\n",
      "\n",
      "\n",
      "Number of columns: 16\n",
      "Number of rows: 7197\n"
     ]
    }
   ],
   "source": [
    "print(header_app_store)\n",
    "print('\\n')\n",
    "explore_data(app_store,0,1,True)"
   ]
  },
  {
   "cell_type": "code",
   "execution_count": 6,
   "metadata": {},
   "outputs": [
    {
     "name": "stdout",
     "output_type": "stream",
     "text": [
      "['App', 'Category', 'Rating', 'Reviews', 'Size', 'Installs', 'Type', 'Price', 'Content Rating', 'Genres', 'Last Updated', 'Current Ver', 'Android Ver']\n",
      "\n",
      "\n",
      "['Photo Editor & Candy Camera & Grid & ScrapBook', 'ART_AND_DESIGN', '4.1', '159', '19M', '10,000+', 'Free', '0', 'Everyone', 'Art & Design', 'January 7, 2018', '1.0.0', '4.0.3 and up']\n",
      "\n",
      "\n",
      "Number of columns: 13\n",
      "Number of rows: 10841\n"
     ]
    }
   ],
   "source": [
    "print(header_google_play)\n",
    "print('\\n')\n",
    "explore_data(google_play,0,1,True)"
   ]
  },
  {
   "cell_type": "markdown",
   "metadata": {},
   "source": [
    "# Quality Data Report:"
   ]
  },
  {
   "cell_type": "raw",
   "metadata": {},
   "source": [
    "Before i get to to work on doing data cleaning, i need to know the quality of data which i am working with. Therefore, i am going make a quality report to check null values, duplicate values and unique values."
   ]
  },
  {
   "cell_type": "code",
   "execution_count": 7,
   "metadata": {},
   "outputs": [],
   "source": [
    "import pandas as pd\n",
    "APS = pd.read_csv('AppleStore.csv')\n",
    "GPS = pd.read_csv('googleplaystore.csv')"
   ]
  },
  {
   "cell_type": "code",
   "execution_count": 8,
   "metadata": {},
   "outputs": [],
   "source": [
    "def check_data_quality(df,column):\n",
    "    quality_report = {\n",
    "        'null_values': df.isnull().sum().to_dict(),\n",
    "        'duplicate_values': df[column].duplicated().sum(),\n",
    "        'unique_values': len(df[column].unique()),\n",
    "        'total_rows': len(df)\n",
    "        }\n",
    "    return quality_report"
   ]
  },
  {
   "cell_type": "raw",
   "metadata": {},
   "source": [
    "Appstore report based on Id column, as an ID represents a customer."
   ]
  },
  {
   "cell_type": "code",
   "execution_count": 9,
   "metadata": {
    "scrolled": true
   },
   "outputs": [
    {
     "data": {
      "text/plain": [
       "{'null_values': {'id': 0,\n",
       "  'track_name': 0,\n",
       "  'size_bytes': 0,\n",
       "  'currency': 0,\n",
       "  'price': 0,\n",
       "  'rating_count_tot': 0,\n",
       "  'rating_count_ver': 0,\n",
       "  'user_rating': 0,\n",
       "  'user_rating_ver': 0,\n",
       "  'ver': 0,\n",
       "  'cont_rating': 0,\n",
       "  'prime_genre': 0,\n",
       "  'sup_devices.num': 0,\n",
       "  'ipadSc_urls.num': 0,\n",
       "  'lang.num': 0,\n",
       "  'vpp_lic': 0},\n",
       " 'duplicate_values': 0,\n",
       " 'unique_values': 7197,\n",
       " 'total_rows': 7197}"
      ]
     },
     "metadata": {},
     "output_type": "display_data"
    }
   ],
   "source": [
    "quality_report = check_data_quality(df=APS,column='id')\n",
    "display(quality_report)"
   ]
  },
  {
   "cell_type": "markdown",
   "metadata": {},
   "source": [
    "There is no error data in Appstore report, so it doesn't need to clean "
   ]
  },
  {
   "cell_type": "raw",
   "metadata": {},
   "source": [
    "GooglePlay report based on App column "
   ]
  },
  {
   "cell_type": "code",
   "execution_count": 10,
   "metadata": {
    "scrolled": true
   },
   "outputs": [
    {
     "data": {
      "text/plain": [
       "{'null_values': {'App': 0,\n",
       "  'Category': 0,\n",
       "  'Rating': 1474,\n",
       "  'Reviews': 0,\n",
       "  'Size': 0,\n",
       "  'Installs': 0,\n",
       "  'Type': 1,\n",
       "  'Price': 0,\n",
       "  'Content Rating': 1,\n",
       "  'Genres': 0,\n",
       "  'Last Updated': 0,\n",
       "  'Current Ver': 8,\n",
       "  'Android Ver': 3},\n",
       " 'duplicate_values': 1181,\n",
       " 'unique_values': 9660,\n",
       " 'total_rows': 10841}"
      ]
     },
     "metadata": {},
     "output_type": "display_data"
    }
   ],
   "source": [
    "quality_report = check_data_quality(df=GPS, column='App')\n",
    "display(quality_report)"
   ]
  },
  {
   "cell_type": "raw",
   "metadata": {},
   "source": [
    "It needs to remove duplicate_values and check null_values if any error inside it"
   ]
  },
  {
   "cell_type": "markdown",
   "metadata": {},
   "source": [
    "# Data Cleaning"
   ]
  },
  {
   "cell_type": "raw",
   "metadata": {},
   "source": [
    "Let us go to work on cleaning. First, I'll review each row's data to identify any issues. Analyze to decide whether to remove it or not."
   ]
  },
  {
   "cell_type": "markdown",
   "metadata": {},
   "source": [
    "#      Detect inaccurate data in each row and remove"
   ]
  },
  {
   "cell_type": "code",
   "execution_count": 11,
   "metadata": {},
   "outputs": [],
   "source": [
    "for row in app_store:\n",
    "    header_length = len(header_app_store)\n",
    "    row_length = len(row)\n",
    "    if row_length != header_length:\n",
    "        print(row)\n",
    "        print(app_store.index(row))"
   ]
  },
  {
   "cell_type": "markdown",
   "metadata": {},
   "source": [
    "**As we can see, row(10472) has problemtic datas in \"category\" and \"rating\" column which are 1.9 and 19. So i am going to delete it."
   ]
  },
  {
   "cell_type": "code",
   "execution_count": 12,
   "metadata": {},
   "outputs": [
    {
     "name": "stdout",
     "output_type": "stream",
     "text": [
      "['App', 'Category', 'Rating', 'Reviews', 'Size', 'Installs', 'Type', 'Price', 'Content Rating', 'Genres', 'Last Updated', 'Current Ver', 'Android Ver']\n",
      "['Life Made WI-Fi Touchscreen Photo Frame', '1.9', '19', '3.0M', '1,000+', 'Free', '0', 'Everyone', '', 'February 11, 2018', '1.0.19', '4.0 and up']\n",
      "10472\n"
     ]
    }
   ],
   "source": [
    "for row in google_play:\n",
    "    header_length = len(header_google_play)\n",
    "    row_length = len(row)\n",
    "    if row_length != header_length:\n",
    "        print(header_google_play)\n",
    "        print(row)\n",
    "        print(google_play.index(row))\n",
    "del google_play[10472] #run del statement once"
   ]
  },
  {
   "cell_type": "code",
   "execution_count": 13,
   "metadata": {},
   "outputs": [],
   "source": [
    "for row in app_store:\n",
    "    header_length = len(header_app_store)\n",
    "    row_length = len(row)\n",
    "    if row_length != header_length:\n",
    "        print(header_app_store)\n",
    "        print(row)\n",
    "        print(app_store.index(row))"
   ]
  },
  {
   "cell_type": "raw",
   "metadata": {},
   "source": [
    "AppStore has no error rows."
   ]
  },
  {
   "cell_type": "markdown",
   "metadata": {},
   "source": [
    "#    Detect duplicate values"
   ]
  },
  {
   "cell_type": "raw",
   "metadata": {},
   "source": [
    "I create a function to check duplicate and unique values in two datasets.\n",
    "If the app appears the first time, it will assign to unique_app. The second time  will move to duplicate_app"
   ]
  },
  {
   "cell_type": "code",
   "execution_count": 14,
   "metadata": {},
   "outputs": [],
   "source": [
    "def check_duplicate(dataset,index):\n",
    "    duplicate_app = []\n",
    "    unique_app = []\n",
    "    for app in dataset:\n",
    "        name = app[index]\n",
    "        if name  in unique_app:\n",
    "            duplicate_app.append(name)\n",
    "        elif name not in duplicate_app:\n",
    "            unique_app.append(name)\n",
    "    return duplicate_app, unique_app"
   ]
  },
  {
   "cell_type": "code",
   "execution_count": 15,
   "metadata": {},
   "outputs": [
    {
     "name": "stdout",
     "output_type": "stream",
     "text": [
      "Number of duplicate app: 0\n",
      "Number of unique app: 7197\n",
      "Actual length of app store: 7197\n"
     ]
    }
   ],
   "source": [
    "duplicate_app, unique_app = check_duplicate(app_store,0)\n",
    "print(\"Number of duplicate app:\",len(duplicate_app))\n",
    "print(\"Number of unique app:\",len(unique_app))\n",
    "print(\"Actual length of app store:\",len(app_store))"
   ]
  },
  {
   "cell_type": "code",
   "execution_count": 16,
   "metadata": {},
   "outputs": [
    {
     "name": "stdout",
     "output_type": "stream",
     "text": [
      "Number of duplicate app: 1181\n",
      "Number of unique app: 9659\n",
      "Actual length of google play: 10840\n"
     ]
    }
   ],
   "source": [
    "duplicate_app, unique_app = check_duplicate(google_play,0)\n",
    "print(\"Number of duplicate app:\",len(duplicate_app))\n",
    "print(\"Number of unique app:\",len(unique_app))\n",
    "print(\"Actual length of google play:\",len(google_play))"
   ]
  },
  {
   "cell_type": "markdown",
   "metadata": {},
   "source": [
    "**Criterion to remove: keep the highest number of reviews in each app and remove the others"
   ]
  },
  {
   "cell_type": "raw",
   "metadata": {},
   "source": [
    "We are going to create a dictionary that contains each key is an unique app name with its highest number of reviews.\n",
    "There are four steps inside the dictionary:\n",
    "    (1) To check the name in the dictionary or not\n",
    "    (2) If: it has the name => compare the current review to new review\n",
    "    + If a new review > current review in dictionary => update new review\n",
    "    + If new review < current review in dictionary => Remain current review\n",
    "    (3) If: it hasn't => Add the new app to the dictionary with the review."
   ]
  },
  {
   "cell_type": "code",
   "execution_count": 17,
   "metadata": {},
   "outputs": [],
   "source": [
    "reviews_max = {}\n",
    "for row in google_play:\n",
    "    name = row[0]\n",
    "    currnt_reviews = float(row[3])\n",
    "    if (name in reviews_max) and reviews_max[name] < currnt_reviews:\n",
    "        reviews_max[name] = currnt_reviews\n",
    "    elif name not in reviews_max:\n",
    "        reviews_max[name] = currnt_reviews\n",
    "#display(reviews_max)"
   ]
  },
  {
   "cell_type": "raw",
   "metadata": {},
   "source": [
    "I do not want to take the duplicate entries, i have one way to only take unique tries.\n",
    "First use reviews_max dictionary (which contains Key=App & Value = Highest Review)\n",
    "After that, i say:\n",
    "- If there is a row with the review as same as highest review, also advoid name appear twice. Add this row to a list called \"Cl_google_play\"."
   ]
  },
  {
   "cell_type": "code",
   "execution_count": 18,
   "metadata": {},
   "outputs": [],
   "source": [
    "Cl_google_play = []\n",
    "added_app = []\n",
    "for row in google_play:\n",
    "    name = row[0]\n",
    "    currnt_reviews = float(row[3])\n",
    "    if (currnt_reviews == reviews_max[name]) and (name not in added_app):\n",
    "        Cl_google_play.append(row)\n",
    "        added_app.append(name)"
   ]
  },
  {
   "cell_type": "code",
   "execution_count": 19,
   "metadata": {},
   "outputs": [
    {
     "name": "stdout",
     "output_type": "stream",
     "text": [
      "['Photo Editor & Candy Camera & Grid & ScrapBook', 'ART_AND_DESIGN', '4.1', '159', '19M', '10,000+', 'Free', '0', 'Everyone', 'Art & Design', 'January 7, 2018', '1.0.0', '4.0.3 and up']\n",
      "\n",
      "\n",
      "['U Launcher Lite – FREE Live Cool Themes, Hide Apps', 'ART_AND_DESIGN', '4.7', '87510', '8.7M', '5,000,000+', 'Free', '0', 'Everyone', 'Art & Design', 'August 1, 2018', '1.2.4', '4.0.3 and up']\n",
      "\n",
      "\n",
      "Number of columns: 13\n",
      "Number of rows: 9659\n"
     ]
    }
   ],
   "source": [
    "explore_data(Cl_google_play,0,2,True)"
   ]
  },
  {
   "cell_type": "markdown",
   "metadata": {},
   "source": [
    "#     Remove Non-ASCII apps: "
   ]
  },
  {
   "cell_type": "raw",
   "metadata": {},
   "source": [
    "Remember the company aims to English-speaking audience, so i'd like to analyze only the apps that are designed for their target. However,i find that both datasets have apps with names that suggest they are not designed for an English-speaking audience."
   ]
  },
  {
   "cell_type": "raw",
   "metadata": {},
   "source": [
    "**To minimize the impact of data loss, i will only remove an app if its name has more than three non-ASCII characters:"
   ]
  },
  {
   "cell_type": "code",
   "execution_count": 20,
   "metadata": {},
   "outputs": [],
   "source": [
    "def check_ASCII(string):\n",
    "    non_ASCII = 0\n",
    "    for character in string:\n",
    "        if ord(character) > 127:\n",
    "            non_ASCII += 1\n",
    "    if non_ASCII >3:\n",
    "        return \"Non English\"\n",
    "    return \"English\"\n",
    "#print(check_ASCII('Instagram'))\n",
    "#Print('爱奇艺PPS -《欢乐颂2》电视剧热播')"
   ]
  },
  {
   "cell_type": "code",
   "execution_count": 21,
   "metadata": {},
   "outputs": [],
   "source": [
    "EngCl_googleplay = []\n",
    "EngCl_appstore= []\n",
    "\n",
    "for app in Cl_google_play:\n",
    "    name = app[0]\n",
    "    if check_ASCII(name)==\"English\":\n",
    "        EngCl_googleplay.append(app)     \n",
    "\n",
    "for app in app_store:\n",
    "    name = app[1]\n",
    "    if check_ASCII(name)==\"English\":\n",
    "        EngCl_appstore.append(app) "
   ]
  },
  {
   "cell_type": "code",
   "execution_count": 22,
   "metadata": {},
   "outputs": [
    {
     "name": "stdout",
     "output_type": "stream",
     "text": [
      "['284882215', 'Facebook', '389879808', 'USD', '0.0', '2974676', '212', '3.5', '3.5', '95.0', '4+', 'Social Networking', '37', '1', '29', '1']\n",
      "\n",
      "\n",
      "['389801252', 'Instagram', '113954816', 'USD', '0.0', '2161558', '1289', '4.5', '4.0', '10.23', '12+', 'Photo & Video', '37', '0', '29', '1']\n",
      "\n",
      "\n",
      "Number of columns: 16\n",
      "Number of rows: 6183\n"
     ]
    }
   ],
   "source": [
    "explore_data(EngCl_appstore,0,2,True)"
   ]
  },
  {
   "cell_type": "code",
   "execution_count": 23,
   "metadata": {},
   "outputs": [
    {
     "name": "stdout",
     "output_type": "stream",
     "text": [
      "['Photo Editor & Candy Camera & Grid & ScrapBook', 'ART_AND_DESIGN', '4.1', '159', '19M', '10,000+', 'Free', '0', 'Everyone', 'Art & Design', 'January 7, 2018', '1.0.0', '4.0.3 and up']\n",
      "\n",
      "\n",
      "['U Launcher Lite – FREE Live Cool Themes, Hide Apps', 'ART_AND_DESIGN', '4.7', '87510', '8.7M', '5,000,000+', 'Free', '0', 'Everyone', 'Art & Design', 'August 1, 2018', '1.2.4', '4.0.3 and up']\n",
      "\n",
      "\n",
      "Number of columns: 13\n",
      "Number of rows: 9614\n"
     ]
    }
   ],
   "source": [
    "explore_data(EngCl_googleplay,0,2,True)"
   ]
  },
  {
   "cell_type": "markdown",
   "metadata": {},
   "source": [
    "We can see that we're left with 9614 Googleplay and 6183 AppleStore."
   ]
  },
  {
   "cell_type": "markdown",
   "metadata": {},
   "source": [
    " #     Isolating the Free Apps"
   ]
  },
  {
   "cell_type": "markdown",
   "metadata": {},
   "source": [
    "As i mentioned in the introduction, the company only build apps that are free. So i am going to remove non-free apps based on \"Price\" column.\n",
    "Rightnow, i am going to create a function to see how many apps have the price \"zero\" and remove others after that."
   ]
  },
  {
   "cell_type": "code",
   "execution_count": 24,
   "metadata": {},
   "outputs": [],
   "source": [
    "def price_list(dataset,index):\n",
    "    price_dict = {}\n",
    "    for row in dataset:\n",
    "        price = row[index]\n",
    "        if price in price_dict:\n",
    "            price_dict[price] +=1\n",
    "        elif price not in price_dict:\n",
    "            price_dict[price] = 1\n",
    "    return price_dict\n",
    "\n",
    "def sort_value(item):\n",
    "    return item[1]"
   ]
  },
  {
   "cell_type": "raw",
   "metadata": {},
   "source": [
    "After checking the price_list, there are:\n",
    "    (+) Free apps:\n",
    "        - AppStore: 3222 apps that are free\n",
    "        - GooglePlay: 8864 apps that are free\n",
    "    (+) Non-Free apps:\n",
    "        - AppStore: 2961 apps that are not free\n",
    "        - GooglePlay: 760 apps that are not free"
   ]
  },
  {
   "cell_type": "code",
   "execution_count": 25,
   "metadata": {},
   "outputs": [
    {
     "name": "stdout",
     "output_type": "stream",
     "text": [
      "[('0.0', 3222), ('2.99', 669), ('0.99', 641), ('1.99', 610), ('4.99', 375), ('3.99', 266), ('6.99', 165), ('9.99', 76), ('5.99', 43), ('7.99', 30), ('14.99', 15), ('19.99', 13), ('8.99', 8), ('24.99', 8), ('13.99', 6), ('29.99', 6), ('15.99', 4), ('17.99', 3), ('11.99', 3), ('59.99', 3), ('39.99', 2), ('16.99', 2), ('49.99', 2), ('20.99', 1), ('12.99', 1), ('74.99', 1), ('249.99', 1), ('27.99', 1), ('22.99', 1), ('18.99', 1), ('99.99', 1), ('21.99', 1), ('34.99', 1), ('299.99', 1)]\n"
     ]
    }
   ],
   "source": [
    "pricelist_appstore = price_list(EngCl_appstore,4)\n",
    "sorted_value = sorted(pricelist_appstore.items(),key=sort_value,reverse=True)\n",
    "print(sorted_value)"
   ]
  },
  {
   "cell_type": "code",
   "execution_count": 26,
   "metadata": {},
   "outputs": [
    {
     "name": "stdout",
     "output_type": "stream",
     "text": [
      "[('0', 8864), ('$0.99', 145), ('$2.99', 124), ('$1.99', 73), ('$4.99', 70), ('$3.99', 56), ('$1.49', 45), ('$5.99', 26), ('$2.49', 25), ('$9.99', 19), ('$399.99', 11), ('$6.99', 10), ('$14.99', 9), ('$4.49', 9), ('$7.99', 7), ('$3.49', 7), ('$5.49', 5), ('$29.99', 5), ('$19.99', 5), ('$8.99', 5), ('$6.49', 5), ('$11.99', 3), ('$1.00', 3), ('$24.99', 3), ('$2.00', 3), ('$12.99', 3), ('$7.49', 2), ('$10.00', 2), ('$16.99', 2), ('$39.99', 2), ('$1.70', 2), ('$17.99', 2), ('$13.99', 2), ('$8.49', 2), ('$9.00', 1), ('$79.99', 1), ('$10.99', 1), ('$1.50', 1), ('$15.99', 1), ('$33.99', 1), ('$74.99', 1), ('$3.95', 1), ('$3.88', 1), ('$25.99', 1), ('$400.00', 1), ('$3.02', 1), ('$1.76', 1), ('$4.84', 1), ('$4.77', 1), ('$1.61', 1), ('$2.50', 1), ('$1.59', 1), ('$1.29', 1), ('$5.00', 1), ('$299.99', 1), ('$379.99', 1), ('$37.99', 1), ('$18.99', 1), ('$389.99', 1), ('$19.90', 1), ('$1.75', 1), ('$14.00', 1), ('$4.85', 1), ('$46.99', 1), ('$109.99', 1), ('$154.99', 1), ('$3.08', 1), ('$2.59', 1), ('$4.80', 1), ('$1.96', 1), ('$19.40', 1), ('$3.90', 1), ('$4.59', 1), ('$15.46', 1), ('$3.04', 1), ('$4.29', 1), ('$2.60', 1), ('$3.28', 1), ('$4.60', 1), ('$28.99', 1), ('$2.95', 1), ('$2.90', 1), ('$1.97', 1), ('$200.00', 1), ('$89.99', 1), ('$2.56', 1), ('$30.99', 1), ('$3.61', 1), ('$394.99', 1), ('$1.26', 1), ('$1.20', 1), ('$1.04', 1)]\n"
     ]
    }
   ],
   "source": [
    "pricelist_googleplay = price_list(EngCl_googleplay,7)\n",
    "sorted_value = sorted(pricelist_googleplay.items(),key=sort_value,reverse=True)\n",
    "print(sorted_value)"
   ]
  },
  {
   "cell_type": "raw",
   "metadata": {},
   "source": [
    "Rightnow, we are going to get to work to remove the Non-Free English apps.\n",
    "The idea to remove is that:\n",
    "    + if the price is not '0' => remove\n",
    "    + if the price is '0' => add to the list\n",
    "**Note: rember the type of the \"price\" column"
   ]
  },
  {
   "cell_type": "code",
   "execution_count": 27,
   "metadata": {},
   "outputs": [
    {
     "name": "stdout",
     "output_type": "stream",
     "text": [
      "Free Apps of AppStore: 3222\n",
      "Non Free Apps of AppStore: 2961\n"
     ]
    }
   ],
   "source": [
    "NFrEngCl_applestore = []\n",
    "FrEngCl_applestore = []\n",
    "for row in EngCl_appstore:\n",
    "    price = row[4]\n",
    "    if price != str('0.0') and price != str('0'):\n",
    "        NFrEngCl_applestore.append(row)\n",
    "    elif price == str('0.0') or price == str('0'):\n",
    "        FrEngCl_applestore.append(row)\n",
    "print(\"Free Apps of AppStore:\",len(FrEngCl_applestore))\n",
    "print(\"Non Free Apps of AppStore:\",len(NFrEngCl_applestore))"
   ]
  },
  {
   "cell_type": "code",
   "execution_count": 28,
   "metadata": {},
   "outputs": [
    {
     "name": "stdout",
     "output_type": "stream",
     "text": [
      "Free Apps of GooglePlay: 8864\n",
      "Non Free Apps of GooglePlay: 750\n"
     ]
    }
   ],
   "source": [
    "NFrEngCl_googleplay = []\n",
    "FrEngCl_googleplay = []\n",
    "for row in EngCl_googleplay:\n",
    "    price = row[7]\n",
    "    if price != str('0.0') and price != str('0'):\n",
    "        NFrEngCl_googleplay.append(row)\n",
    "    elif price == str('0.0') or price == str('0'):\n",
    "        FrEngCl_googleplay.append(row)\n",
    "print(\"Free Apps of GooglePlay:\",len(FrEngCl_googleplay))\n",
    "print(\"Non Free Apps of GooglePlay:\",len(NFrEngCl_googleplay))"
   ]
  },
  {
   "cell_type": "markdown",
   "metadata": {},
   "source": [
    "# Most Common Apps by Genre"
   ]
  },
  {
   "cell_type": "raw",
   "metadata": {},
   "source": [
    "I've spent an amount of time cleaning data, including the following:\n",
    "    - Removing inaccurate data\n",
    "    - Removing duplicates app entries\n",
    "    - Removing non-English apps\n",
    "    - Isolating the free apps\n",
    "Let's move on to the final goal is to find app profiles that are successful in both markets to add the app on both GooglePlay and AppStore."
   ]
  },
  {
   "cell_type": "markdown",
   "metadata": {},
   "source": [
    "**Build a frequency table for the prime_genre column of the App Store data set\n",
    "for the Genres and Category columns of the Google Play data set."
   ]
  },
  {
   "cell_type": "code",
   "execution_count": 29,
   "metadata": {},
   "outputs": [],
   "source": [
    "def freq_table(dataset,index):\n",
    "    genre_dict = {}\n",
    "    total_number_of_apps = len(dataset)\n",
    "    for row in  dataset:\n",
    "        genre = row[index]\n",
    "        if genre in genre_dict:\n",
    "            genre_dict[genre] +=1\n",
    "        elif genre not in genre_dict:\n",
    "            genre_dict[genre] = 1\n",
    "    \n",
    "    genre_percentage = {}\n",
    "    for genre in genre_dict:\n",
    "        percentage = (genre_dict[genre]*100)/total_number_of_apps\n",
    "        genre_percentage[genre] = percentage\n",
    "    return genre_percentage"
   ]
  },
  {
   "cell_type": "code",
   "execution_count": 30,
   "metadata": {},
   "outputs": [],
   "source": [
    "def display_table(dataset,index):\n",
    "    table_display = freq_table(dataset,index)\n",
    "    table_sorted = sorted(table_display.items(),key=lambda x:x[1],reverse=True)\n",
    "    for entry in table_sorted:\n",
    "        print(entry[0],\":\",entry[1])"
   ]
  },
  {
   "cell_type": "code",
   "execution_count": 31,
   "metadata": {
    "scrolled": false
   },
   "outputs": [
    {
     "name": "stdout",
     "output_type": "stream",
     "text": [
      "Games : 58.16263190564867\n",
      "Entertainment : 7.883302296710118\n",
      "Photo & Video : 4.9658597144630665\n",
      "Education : 3.6623215394165114\n",
      "Social Networking : 3.2898820608317814\n",
      "Shopping : 2.60707635009311\n",
      "Utilities : 2.5139664804469275\n",
      "Sports : 2.1415270018621975\n",
      "Music : 2.0484171322160147\n",
      "Health & Fitness : 2.017380509000621\n",
      "Productivity : 1.7380509000620732\n",
      "Lifestyle : 1.5828677839851024\n",
      "News : 1.3345747982619491\n",
      "Travel : 1.2414649286157666\n",
      "Finance : 1.1173184357541899\n",
      "Weather : 0.8690254500310366\n",
      "Food & Drink : 0.8069522036002483\n",
      "Reference : 0.5586592178770949\n",
      "Business : 0.5276225946617008\n",
      "Book : 0.4345127250155183\n",
      "Navigation : 0.186219739292365\n",
      "Medical : 0.186219739292365\n",
      "Catalogs : 0.12414649286157665\n"
     ]
    }
   ],
   "source": [
    "display_table(FrEngCl_applestore,11)"
   ]
  },
  {
   "cell_type": "raw",
   "metadata": {},
   "source": [
    "- Among the free English apps, we can see that \"Games\" genre accountings for (58%). Entertaiment apps are approximately (8%) and followed by Photo & Video closed to (5%). There is only (~3.6%) which is designed for Education.\n",
    "- The general impression is that most apps on the App Store lean toward entertainment (e.g., Games, Social Networking, etc.). However, a large percentage of apps belonging to a particular genre does not necessarily mean those apps have a large user base."
   ]
  },
  {
   "cell_type": "code",
   "execution_count": 32,
   "metadata": {},
   "outputs": [
    {
     "name": "stdout",
     "output_type": "stream",
     "text": [
      "FAMILY : 18.907942238267147\n",
      "GAME : 9.724729241877256\n",
      "TOOLS : 8.461191335740072\n",
      "BUSINESS : 4.591606498194946\n",
      "LIFESTYLE : 3.9034296028880866\n",
      "PRODUCTIVITY : 3.892148014440433\n",
      "FINANCE : 3.700361010830325\n",
      "MEDICAL : 3.5311371841155235\n",
      "SPORTS : 3.395758122743682\n",
      "PERSONALIZATION : 3.3167870036101084\n",
      "COMMUNICATION : 3.237815884476534\n",
      "HEALTH_AND_FITNESS : 3.079873646209386\n",
      "PHOTOGRAPHY : 2.9444945848375452\n",
      "NEWS_AND_MAGAZINES : 2.7978339350180503\n",
      "SOCIAL : 2.6624548736462095\n",
      "TRAVEL_AND_LOCAL : 2.33528880866426\n",
      "SHOPPING : 2.2450361010830324\n",
      "BOOKS_AND_REFERENCE : 2.1435018050541514\n",
      "DATING : 1.861462093862816\n",
      "VIDEO_PLAYERS : 1.7937725631768953\n",
      "MAPS_AND_NAVIGATION : 1.3989169675090252\n",
      "FOOD_AND_DRINK : 1.2409747292418774\n",
      "EDUCATION : 1.1620036101083033\n",
      "ENTERTAINMENT : 0.9589350180505415\n",
      "LIBRARIES_AND_DEMO : 0.9363718411552346\n",
      "AUTO_AND_VEHICLES : 0.9250902527075813\n",
      "HOUSE_AND_HOME : 0.8235559566787004\n",
      "WEATHER : 0.8009927797833934\n",
      "EVENTS : 0.7107400722021661\n",
      "PARENTING : 0.6543321299638989\n",
      "ART_AND_DESIGN : 0.6430505415162455\n",
      "COMICS : 0.6204873646209387\n",
      "BEAUTY : 0.5979241877256317\n"
     ]
    }
   ],
   "source": [
    "display_table(FrEngCl_googleplay,1)"
   ]
  },
  {
   "cell_type": "markdown",
   "metadata": {},
   "source": [
    "There are a good number of apps are designed for life-support apps (Family,Tools, Business,LifeStyle,Productivity,etc)."
   ]
  },
  {
   "cell_type": "markdown",
   "metadata": {},
   "source": [
    "# Most Popular Apps by Genre on the AppStore"
   ]
  },
  {
   "cell_type": "raw",
   "metadata": {},
   "source": [
    "- To find out the most popular apps (have the most users), i have to find out the average install of each genre. \n",
    "- For GooglePlay dataset, i can find this information on \"Install\" column, but there is no \"Install column\" in AppStore dataset. Therefore, i am going to use \"Rating_count_tot\" column as a replacement"
   ]
  },
  {
   "cell_type": "code",
   "execution_count": 33,
   "metadata": {},
   "outputs": [
    {
     "name": "stdout",
     "output_type": "stream",
     "text": [
      "Social Networking : 71548.34905660378\n",
      "Photo & Video : 28441.54375\n",
      "Games : 22788.6696905016\n",
      "Music : 57326.530303030304\n",
      "Reference : 74942.11111111111\n",
      "Health & Fitness : 23298.015384615384\n",
      "Weather : 52279.892857142855\n",
      "Utilities : 18684.456790123455\n",
      "Travel : 28243.8\n",
      "Shopping : 26919.690476190477\n",
      "News : 21248.023255813954\n",
      "Navigation : 86090.33333333333\n",
      "Lifestyle : 16485.764705882353\n",
      "Entertainment : 14029.830708661417\n",
      "Food & Drink : 33333.92307692308\n",
      "Sports : 23008.898550724636\n",
      "Book : 39758.5\n",
      "Finance : 31467.944444444445\n",
      "Education : 7003.983050847458\n",
      "Productivity : 21028.410714285714\n",
      "Business : 7491.117647058823\n",
      "Catalogs : 4004.0\n",
      "Medical : 612.0\n"
     ]
    }
   ],
   "source": [
    "genre_appstore = freq_table(FrEngCl_applestore,11)\n",
    "genre_averages = []\n",
    "\n",
    "for unique_genre in genre_appstore:\n",
    "    total_rating = 0\n",
    "    length_genre = 0\n",
    "    \n",
    "    for app in FrEngCl_applestore:\n",
    "        genre_app = app[11]\n",
    "        if genre_app == unique_genre:\n",
    "            n_ratings = float(app[5])\n",
    "            total_rating += n_ratings\n",
    "            length_genre += 1\n",
    "            \n",
    "    average_rating = total_rating / length_genre\n",
    "    genre_averages.append((unique_genre, average_rating))\n",
    "    \n",
    "    print(unique_genre,\":\",average_rating)"
   ]
  },
  {
   "cell_type": "raw",
   "metadata": {},
   "source": [
    "- The table displays all genres alongside their corresponding review counts, making the data difficult to interpret because of not desecending order. To simplify, I will first identify the top 5 genres with the highest average number of installs, then analyze the apps within those genres."
   ]
  },
  {
   "cell_type": "code",
   "execution_count": 34,
   "metadata": {},
   "outputs": [
    {
     "name": "stdout",
     "output_type": "stream",
     "text": [
      "Top 5 Genres by Average Installs on AppleStore:\n",
      "Navigation : 86090.33333333333\n",
      "Reference : 74942.11111111111\n",
      "Social Networking : 71548.34905660378\n",
      "Music : 57326.530303030304\n",
      "Weather : 52279.892857142855\n"
     ]
    }
   ],
   "source": [
    "top_5_genres = sorted(genre_averages,key=lambda x:x[1],reverse=True)[:5]\n",
    "print(\"Top 5 Genres by Average Installs on AppleStore:\")\n",
    "for genre, average in top_5_genres:\n",
    "    print(genre,\":\",average)"
   ]
  },
  {
   "cell_type": "raw",
   "metadata": {},
   "source": [
    "** \"Navigation\" genre inclined toward two majors app these are \"Waze\" and \"Google Maps\" which accounted for most of the ratings in Navigation"
   ]
  },
  {
   "cell_type": "code",
   "execution_count": 35,
   "metadata": {},
   "outputs": [
    {
     "name": "stdout",
     "output_type": "stream",
     "text": [
      "Waze - GPS Navigation, Maps & Real-time Traffic : 345046\n",
      "Google Maps - Navigation & Transit : 154911\n",
      "Geocaching® : 12811\n",
      "CoPilot GPS – Car Navigation & Offline Maps : 3582\n",
      "ImmobilienScout24: Real Estate Search in Germany : 187\n",
      "Railway Route Search : 5\n"
     ]
    }
   ],
   "source": [
    "for app in FrEngCl_applestore:\n",
    "    if app[11] =='Navigation':\n",
    "        print(app[1],\":\",app[5])"
   ]
  },
  {
   "cell_type": "raw",
   "metadata": {},
   "source": [
    "**The same pattern applies to social networking apps, where the average number is heavily influenced by a few giants like Facebook, Pinterest, Skype, etc."
   ]
  },
  {
   "cell_type": "code",
   "execution_count": 36,
   "metadata": {
    "scrolled": true
   },
   "outputs": [
    {
     "name": "stdout",
     "output_type": "stream",
     "text": [
      "Facebook : 2974676\n",
      "Pinterest : 1061624\n",
      "Skype for iPhone : 373519\n",
      "Messenger : 351466\n",
      "Tumblr : 334293\n",
      "WhatsApp Messenger : 287589\n",
      "Kik : 260965\n",
      "ooVoo – Free Video Call, Text and Voice : 177501\n",
      "TextNow - Unlimited Text + Calls : 164963\n",
      "Viber Messenger – Text & Call : 164249\n",
      "Followers - Social Analytics For Instagram : 112778\n",
      "MeetMe - Chat and Meet New People : 97072\n",
      "We Heart It - Fashion, wallpapers, quotes, tattoos : 90414\n",
      "InsTrack for Instagram - Analytics Plus More : 85535\n",
      "Tango - Free Video Call, Voice and Chat : 75412\n",
      "LinkedIn : 71856\n",
      "Match™ - #1 Dating App. : 60659\n",
      "Skype for iPad : 60163\n",
      "POF - Best Dating App for Conversations : 52642\n",
      "Timehop : 49510\n",
      "Find My Family, Friends & iPhone - Life360 Locator : 43877\n",
      "Whisper - Share, Express, Meet : 39819\n",
      "Hangouts : 36404\n",
      "LINE PLAY - Your Avatar World : 34677\n",
      "WeChat : 34584\n",
      "Badoo - Meet New People, Chat, Socialize. : 34428\n",
      "Followers + for Instagram - Follower Analytics : 28633\n",
      "GroupMe : 28260\n",
      "Marco Polo Video Walkie Talkie : 27662\n",
      "Miitomo : 23965\n",
      "SimSimi : 23530\n",
      "Grindr - Gay and same sex guys chat, meet and date : 23201\n",
      "Wishbone - Compare Anything : 20649\n",
      "imo video calls and chat : 18841\n",
      "After School - Funny Anonymous School News : 18482\n",
      "Quick Reposter - Repost, Regram and Reshare Photos : 17694\n",
      "Weibo HD : 16772\n",
      "Repost for Instagram : 15185\n",
      "Live.me – Live Video Chat & Make Friends Nearby : 14724\n",
      "Nextdoor : 14402\n",
      "Followers Analytics for Instagram - InstaReport : 13914\n",
      "YouNow: Live Stream Video Chat : 12079\n",
      "FollowMeter for Instagram - Followers Tracking : 11976\n",
      "LINE : 11437\n",
      "eHarmony™ Dating App - Meet Singles : 11124\n",
      "Discord - Chat for Gamers : 9152\n",
      "QQ : 9109\n",
      "Telegram Messenger : 7573\n",
      "Weibo : 7265\n",
      "Periscope - Live Video Streaming Around the World : 6062\n",
      "Chat for Whatsapp - iPad Version : 5060\n",
      "QQ HD : 5058\n",
      "Followers Analysis Tool For Instagram App Free : 4253\n",
      "live.ly - live video streaming : 4145\n",
      "Houseparty - Group Video Chat : 3991\n",
      "SOMA Messenger : 3232\n",
      "Monkey : 3060\n",
      "Down To Lunch : 2535\n",
      "Flinch - Video Chat Staring Contest : 2134\n",
      "Highrise - Your Avatar Community : 2011\n",
      "LOVOO - Dating Chat : 1985\n",
      "PlayStation®Messages : 1918\n",
      "BOO! - Video chat camera with filters & stickers : 1805\n",
      "Qzone : 1649\n",
      "Chatous - Chat with new people : 1609\n",
      "Kiwi - Q&A : 1538\n",
      "GhostCodes - a discovery app for Snapchat : 1313\n",
      "Jodel : 1193\n",
      "FireChat : 1037\n",
      "Google Duo - simple video calling : 1033\n",
      "Fiesta by Tango - Chat & Meet New People : 885\n",
      "Google Allo — smart messaging : 862\n",
      "Peach — share vividly : 727\n",
      "Hey! VINA - Where Women Meet New Friends : 719\n",
      "Battlefield™ Companion : 689\n",
      "All Devices for WhatsApp - Messenger for iPad : 682\n",
      "Chat for Pokemon Go - GoChat : 500\n",
      "IAmNaughty – Dating App to Meet New People Online : 463\n",
      "Qzone HD : 458\n",
      "Zenly - Locate your friends in realtime : 427\n",
      "League of Legends Friends : 420\n",
      "豆瓣 : 407\n",
      "Candid - Speak Your Mind Freely : 398\n",
      "知乎 : 397\n",
      "Selfeo : 366\n",
      "Fake-A-Location Free ™ : 354\n",
      "Popcorn Buzz - Free Group Calls : 281\n",
      "Fam — Group video calling for iMessage : 279\n",
      "QQ International : 274\n",
      "Ameba : 269\n",
      "SoundCloud Pulse: for creators : 240\n",
      "Tantan : 235\n",
      "Cougar Dating & Life Style App for Mature Women : 213\n",
      "Rawr Messenger - Dab your chat : 180\n",
      "WhenToPost: Best Time to Post Photos for Instagram : 158\n",
      "Inke—Broadcast an amazing life : 147\n",
      "Mustknow - anonymous video Q&A : 53\n",
      "CTFxCmoji : 39\n",
      "Lobi : 36\n",
      "Chain: Collaborate On MyVideo Story/Group Video : 35\n",
      "botman - Real time video chat : 7\n",
      "BestieBox : 0\n",
      "MATCH ON LINE chat : 0\n",
      "niconico ch : 0\n",
      "LINE BLOG : 0\n",
      "bit-tube - Live Stream Video Chat : 0\n"
     ]
    }
   ],
   "source": [
    "for app in FrEngCl_applestore:\n",
    "    if app[11] == 'Social Networking':\n",
    "        print(app[1], ':', app[5]) #App - Install"
   ]
  },
  {
   "cell_type": "raw",
   "metadata": {},
   "source": [
    "**Same applies to music apps, where a few big players like Pandora, Spotify, and Shazam heavily influence the average number."
   ]
  },
  {
   "cell_type": "code",
   "execution_count": 37,
   "metadata": {
    "scrolled": true
   },
   "outputs": [
    {
     "name": "stdout",
     "output_type": "stream",
     "text": [
      "Pandora - Music & Radio : 1126879\n",
      "Spotify Music : 878563\n",
      "Shazam - Discover music, artists, videos & lyrics : 402925\n",
      "iHeartRadio – Free Music & Radio Stations : 293228\n",
      "SoundCloud - Music & Audio : 135744\n",
      "Magic Piano by Smule : 131695\n",
      "Smule Sing! : 119316\n",
      "TuneIn Radio - MLB NBA Audiobooks Podcasts Music : 110420\n",
      "Amazon Music : 106235\n",
      "SoundHound Song Search & Music Player : 82602\n",
      "Sonos Controller : 48905\n",
      "Bandsintown Concerts : 30845\n",
      "Karaoke - Sing Karaoke, Unlimited Songs! : 28606\n",
      "My Mixtapez Music : 26286\n",
      "Sing Karaoke Songs Unlimited with StarMaker : 26227\n",
      "Ringtones for iPhone & Ringtone Maker : 25403\n",
      "Musi - Unlimited Music For YouTube : 25193\n",
      "AutoRap by Smule : 18202\n",
      "Spinrilla - Mixtapes For Free : 15053\n",
      "Napster - Top Music & Radio : 14268\n",
      "edjing Mix:DJ turntable to remix and scratch music : 13580\n",
      "Free Music - MP3 Streamer & Playlist Manager Pro : 13443\n",
      "Free Piano app by Yokee : 13016\n",
      "Google Play Music : 10118\n",
      "Certified Mixtapes - Hip Hop Albums & Mixtapes : 9975\n",
      "TIDAL : 7398\n",
      "YouTube Music : 7109\n",
      "Nicki Minaj: The Empire : 5196\n",
      "Sounds app - Music And Friends : 5126\n",
      "SongFlip - Free Music Streamer : 5004\n",
      "Simple Radio - Live AM & FM Radio Stations : 4787\n",
      "Deezer - Listen to your Favorite Music & Playlists : 4677\n",
      "Ringtones for iPhone with Ringtone Maker : 4013\n",
      "Bose SoundTouch : 3687\n",
      "Amazon Alexa : 3018\n",
      "DatPiff : 2815\n",
      "Trebel Music - Unlimited Music Downloader : 2570\n",
      "Free Music Play - Mp3 Streamer & Player : 2496\n",
      "Acapella from PicPlayPost : 2487\n",
      "Coach Guitar - Lessons & Easy Tabs For Beginners : 2416\n",
      "Musicloud - MP3 and FLAC Music Player for Cloud Platforms. : 2211\n",
      "Piano - Play Keyboard Music Games with Magic Tiles : 1636\n",
      "Boom: Best Equalizer & Magical Surround Sound : 1375\n",
      "Music Freedom - Unlimited Free MP3 Music Streaming : 1246\n",
      "AmpMe - A Portable Social Party Music Speaker : 1047\n",
      "Medly - Music Maker : 933\n",
      "Bose Connect : 915\n",
      "Music Memos : 909\n",
      "UE BOOM : 612\n",
      "LiveMixtapes : 555\n",
      "NOISE : 355\n",
      "MP3 Music Player & Streamer for Clouds : 329\n",
      "Musical Video Maker - Create Music clips lip sync : 320\n",
      "Cloud Music Player - Downloader & Playlist Manager : 319\n",
      "Remixlive - Remix loops with pads : 288\n",
      "QQ音乐HD : 224\n",
      "Blocs Wave - Make & Record Music : 158\n",
      "PlayGround • Music At Your Fingertips : 150\n",
      "Music and Chill : 135\n",
      "The Singing Machine Mobile Karaoke App : 130\n",
      "radio.de - Der Radioplayer : 64\n",
      "Free Music -  Player & Streamer  for Dropbox, OneDrive & Google Drive : 46\n",
      "NRJ Radio : 38\n",
      "Smart Music: Streaming Videos and Radio : 17\n",
      "BOSS Tuner : 13\n",
      "PetitLyrics : 0\n"
     ]
    }
   ],
   "source": [
    "for app in FrEngCl_applestore:\n",
    "    if app[11] == 'Music':\n",
    "        print(app[1], ':', app[5]) #App - Install"
   ]
  },
  {
   "cell_type": "raw",
   "metadata": {},
   "source": [
    "**\"Refenrce\" genre would been amazing if Bible and Dictionary did not skew up the average rating."
   ]
  },
  {
   "cell_type": "code",
   "execution_count": 38,
   "metadata": {},
   "outputs": [
    {
     "name": "stdout",
     "output_type": "stream",
     "text": [
      "Bible : 985920\n",
      "Dictionary.com Dictionary & Thesaurus : 200047\n",
      "Dictionary.com Dictionary & Thesaurus for iPad : 54175\n",
      "Google Translate : 26786\n",
      "Muslim Pro: Ramadan 2017 Prayer Times, Azan, Quran : 18418\n",
      "New Furniture Mods - Pocket Wiki & Game Tools for Minecraft PC Edition : 17588\n",
      "Merriam-Webster Dictionary : 16849\n",
      "Night Sky : 12122\n",
      "City Maps for Minecraft PE - The Best Maps for Minecraft Pocket Edition (MCPE) : 8535\n",
      "LUCKY BLOCK MOD ™ for Minecraft PC Edition - The Best Pocket Wiki & Mods Installer Tools : 4693\n",
      "GUNS MODS for Minecraft PC Edition - Mods Tools : 1497\n",
      "Guides for Pokémon GO - Pokemon GO News and Cheats : 826\n",
      "WWDC : 762\n",
      "Horror Maps for Minecraft PE - Download The Scariest Maps for Minecraft Pocket Edition (MCPE) Free : 718\n",
      "VPN Express : 14\n",
      "Real Bike Traffic Rider Virtual Reality Glasses : 8\n",
      "教えて!goo : 0\n",
      "Jishokun-Japanese English Dictionary & Translator : 0\n"
     ]
    }
   ],
   "source": [
    "for app in FrEngCl_applestore:\n",
    "    if app[11] == 'Reference':\n",
    "        print(app[1], ':', app[5]) #App - Install"
   ]
  },
  {
   "cell_type": "markdown",
   "metadata": {},
   "source": [
    "# Most Popular Apps by Genre on Google Play"
   ]
  },
  {
   "cell_type": "raw",
   "metadata": {},
   "source": [
    "On GooglePlay dataset has the \"Install\" column, but the data is not very clear. I do not know whether an app with 100,000+ installs has 100,000 number of installs,..."
   ]
  },
  {
   "cell_type": "code",
   "execution_count": 39,
   "metadata": {},
   "outputs": [
    {
     "name": "stdout",
     "output_type": "stream",
     "text": [
      "1,000,000+ : 15.72653429602888\n",
      "100,000+ : 11.552346570397113\n",
      "10,000,000+ : 10.548285198555957\n",
      "10,000+ : 10.1985559566787\n",
      "1,000+ : 8.393501805054152\n",
      "100+ : 6.915613718411552\n",
      "5,000,000+ : 6.825361010830325\n",
      "500,000+ : 5.561823104693141\n",
      "50,000+ : 4.772111913357401\n",
      "5,000+ : 4.512635379061372\n",
      "10+ : 3.542418772563177\n",
      "500+ : 3.2490974729241877\n",
      "50,000,000+ : 2.3014440433212995\n",
      "100,000,000+ : 2.1322202166064983\n",
      "50+ : 1.917870036101083\n",
      "5+ : 0.7897111913357401\n",
      "1+ : 0.5076714801444043\n",
      "500,000,000+ : 0.27075812274368233\n",
      "1,000,000,000+ : 0.22563176895306858\n",
      "0+ : 0.04512635379061372\n",
      "0 : 0.01128158844765343\n"
     ]
    }
   ],
   "source": [
    "display_table(FrEngCl_googleplay,5)"
   ]
  },
  {
   "cell_type": "raw",
   "metadata": {},
   "source": [
    "- I don't know a detailed data for our purpose, I just want to get an idea which apps in genres attract the most users.\n",
    "- So i'm going to compute the average installs in each genre. However, I need to convert each install number from \"string\" to \"float\" (100,000+). It means i need to remove the commas and the plus characters"
   ]
  },
  {
   "cell_type": "code",
   "execution_count": 40,
   "metadata": {
    "scrolled": false
   },
   "outputs": [
    {
     "name": "stdout",
     "output_type": "stream",
     "text": [
      "ART_AND_DESIGN : 1986335.0877192982\n",
      "AUTO_AND_VEHICLES : 647317.8170731707\n",
      "BEAUTY : 513151.88679245283\n",
      "BOOKS_AND_REFERENCE : 8767811.894736841\n",
      "BUSINESS : 1712290.1474201474\n",
      "COMICS : 817657.2727272727\n",
      "COMMUNICATION : 38456119.167247385\n",
      "DATING : 854028.8303030303\n",
      "EDUCATION : 1833495.145631068\n",
      "ENTERTAINMENT : 11640705.88235294\n",
      "EVENTS : 253542.22222222222\n",
      "FINANCE : 1387692.475609756\n",
      "FOOD_AND_DRINK : 1924897.7363636363\n",
      "HEALTH_AND_FITNESS : 4188821.9853479853\n",
      "HOUSE_AND_HOME : 1331540.5616438356\n",
      "LIBRARIES_AND_DEMO : 638503.734939759\n",
      "LIFESTYLE : 1437816.2687861272\n",
      "GAME : 15588015.603248259\n",
      "FAMILY : 3695641.8198090694\n",
      "MEDICAL : 120550.61980830671\n",
      "SOCIAL : 23253652.127118643\n",
      "SHOPPING : 7036877.311557789\n",
      "PHOTOGRAPHY : 17840110.40229885\n",
      "SPORTS : 3638640.1428571427\n",
      "TRAVEL_AND_LOCAL : 13984077.710144928\n",
      "TOOLS : 10801391.298666667\n",
      "PERSONALIZATION : 5201482.6122448975\n",
      "PRODUCTIVITY : 16787331.344927534\n",
      "PARENTING : 542603.6206896552\n",
      "WEATHER : 5074486.197183099\n",
      "VIDEO_PLAYERS : 24727872.452830188\n",
      "NEWS_AND_MAGAZINES : 9549178.467741935\n",
      "MAPS_AND_NAVIGATION : 4056941.7741935486\n"
     ]
    }
   ],
   "source": [
    "category_googleplay = freq_table(FrEngCl_googleplay,1)\n",
    "category_averages = []\n",
    "\n",
    "for unique_category in category_googleplay:\n",
    "    total_installs = 0\n",
    "    length_category = 0\n",
    "    for app in FrEngCl_googleplay:\n",
    "        category_app = app[1]\n",
    "        if category_app == unique_category:\n",
    "            n_installs = float(app[5].replace(',','+').replace('+',''))\n",
    "            total_installs += n_installs\n",
    "            length_category +=1\n",
    "    average_install = total_installs / length_category\n",
    "    category_averages.append((unique_category,average_install))\n",
    "    \n",
    "    print(unique_category,\":\",average_install)"
   ]
  },
  {
   "cell_type": "code",
   "execution_count": 41,
   "metadata": {
    "scrolled": true
   },
   "outputs": [
    {
     "name": "stdout",
     "output_type": "stream",
     "text": [
      "Top 5 categories by Average Installs:\n",
      "COMMUNICATION : 38456119.167247385\n",
      "VIDEO_PLAYERS : 24727872.452830188\n",
      "SOCIAL : 23253652.127118643\n",
      "PHOTOGRAPHY : 17840110.40229885\n",
      "PRODUCTIVITY : 16787331.344927534\n"
     ]
    }
   ],
   "source": [
    "top_5_category = sorted(category_averages,key=lambda x:x[1],reverse=True)[:5]\n",
    "print(\"Top 5 categories by Average Installs:\")\n",
    "for category,average in top_5_category:\n",
    "    print(category,\":\",average)"
   ]
  },
  {
   "cell_type": "markdown",
   "metadata": {},
   "source": [
    "To recommend potential app profile for GooglePlay, i'm going to filter those apps with under 100 millions installs."
   ]
  },
  {
   "cell_type": "code",
   "execution_count": 69,
   "metadata": {
    "scrolled": false
   },
   "outputs": [
    {
     "name": "stdout",
     "output_type": "stream",
     "text": [
      "Social network all in one 2018 : 100,000+\n",
      "TextNow - free text + calls : 10,000,000+\n",
      "The Messenger App : 1,000,000+\n",
      "Messenger Pro : 1,000,000+\n",
      "Free Messages, Video, Chat,Text for Messenger Plus : 1,000,000+\n",
      "Telegram X : 5,000,000+\n",
      "The Video Messenger App : 100,000+\n",
      "Jodel - The Hyperlocal App : 1,000,000+\n",
      "Hide Something - Photo, Video : 5,000,000+\n",
      "Love Sticker : 1,000,000+\n",
      "Web Browser & Fast Explorer : 5,000,000+\n",
      "LiveMe - Video chat, new friends, and make money : 10,000,000+\n",
      "VidStatus app - Status Videos & Status Downloader : 5,000,000+\n",
      "Love Images : 1,000,000+\n",
      "Web Browser ( Fast & Secure Web Explorer) : 500,000+\n",
      "SPARK - Live random video chat & meet new people : 5,000,000+\n",
      "Golden telegram : 50,000+\n",
      "Facebook Local : 1,000,000+\n",
      "Meet – Talk to Strangers Using Random Video Chat : 5,000,000+\n",
      "MobilePatrol Public Safety App : 1,000,000+\n",
      "💘 WhatsLov: Smileys of love, stickers and GIF : 1,000,000+\n",
      "HTC Social Plugin - Facebook : 10,000,000+\n",
      "Quora : 10,000,000+\n",
      "Kate Mobile for VK : 10,000,000+\n",
      "Family GPS tracker KidControl + GPS by SMS Locator : 1,000,000+\n",
      "Moment : 1,000,000+\n",
      "Text Me: Text Free, Call Free, Second Phone Number : 10,000,000+\n",
      "Text Free: WiFi Calling App : 5,000,000+\n",
      "Text free - Free Text + Call : 10,000,000+\n",
      "ooVoo Video Calls, Messaging & Stories : 50,000,000+\n",
      "Whisper : 5,000,000+\n",
      "Blogger : 5,000,000+\n",
      "Bloglovin' : 500,000+\n",
      "Blogaway for Android (Blogger) : 100,000+\n",
      "TwitCasting Live : 1,000,000+\n",
      "Stream - Live Video Community : 500,000+\n",
      "YouNow: Live Stream Video Chat : 10,000,000+\n",
      "Mirrativ: Live Stream Any App : 500,000+\n",
      "Banjo : 1,000,000+\n",
      "We Heart It : 10,000,000+\n",
      "MeetMe: Chat & Meet New People : 50,000,000+\n",
      "Timehop : 5,000,000+\n",
      "Frontback - Social Photos : 1,000,000+\n",
      "Path : 10,000,000+\n",
      "SayHi Chat, Meet New People : 10,000,000+\n",
      "Tapatalk - 100,000+ Forums : 10,000,000+\n",
      "Couple - Relationship App : 1,000,000+\n",
      "Nextdoor - Local neighborhood news & classifieds : 5,000,000+\n",
      "LOVOO : 10,000,000+\n",
      "Jaumo Dating, Flirt & Live Video : 10,000,000+\n",
      "Patook - make platonic friends : 100,000+\n",
      "Zello PTT Walkie Talkie : 50,000,000+\n",
      "textPlus: Free Text & Calls : 10,000,000+\n",
      "magicApp Calling & Messaging : 10,000,000+\n",
      "Dating App, Flirt & Chat : W-Match : 10,000,000+\n",
      "uCiC- Videos and Photos on demand : 100,000+\n",
      "Meetup : 5,000,000+\n",
      "POF Free Dating App : 50,000,000+\n",
      "Tagged - Meet, Chat & Dating : 10,000,000+\n",
      "SKOUT - Meet, Chat, Go Live : 50,000,000+\n",
      "Mico- Stranger Chat Random video Chat, Live, Meet : 10,000,000+\n",
      "Waplog - Free Chat, Dating App, Meet Singles : 10,000,000+\n",
      "B-Messenger Video Chat : 1,000,000+\n",
      "Greeting Cards & Wishes : 500,000+\n",
      "Share G - Images Sharing - Wallpapers App : 10,000+\n",
      "H letter images : 1,000+\n",
      "Instachat 😜 : 5,000,000+\n",
      "Fame Boom for Real Followers, Likes : 5,000,000+\n",
      "FollowMeter for Instagram : 1,000,000+\n",
      "Mali J : 10,000+\n",
      "KDRAMA Amino for K-Drama Fans : 100,000+\n",
      "KPOP Amino for K-Pop Entertainment : 100,000+\n",
      "EXO-L Amino for EXO Fans : 50,000+\n",
      "Verdad o Reto : 500,000+\n",
      "pixiv : 1,000,000+\n",
      "Join R, Community Engagement : 1,000+\n",
      "U LIVE – Video Chat & Stream : 1,000,000+\n",
      "See U - Random video chat, video chat : 100,000+\n",
      "What U See : 100,000+\n",
      "U-Report : 10,000+\n",
      "Meet U - Get Friends for Snapchat, Kik & Instagram : 100,000+\n",
      "VMate Lite - Funny Short Videos Social Network : 1,000,000+\n",
      "V Bucks ProTips New : 1,000+\n",
      "i-share AF/KLM (AFKL ishare) : 100+\n",
      "Eternal Light AG : 100+\n",
      "Message AI - Write Better Messages (Free) : 100+\n",
      "Jamaa Amino for Animal Jam : 10,000+\n",
      "Legend - Animate Text in Video : 10,000,000+\n",
      "GUYZ - Gay Chat & Gay Dating : 1,000,000+\n",
      "eChallan Andhra Pradesh (AP) : 1,000+\n",
      "Snaappy – 3D fun AR core communication platform : 1,000,000+\n",
      "Undertale AU Amino : 50,000+\n",
      "Au Pair : 10,000+\n",
      "Media Sosial TNI AU : 1,000+\n",
      "BA 3 Banjarmasin : 10+\n",
      "iCard BD Plus : 500+\n",
      "Movement BE : 100+\n",
      "YAY - TBH : 100,000+\n",
      "Find My Friends : 10,000,000+\n",
      "BG LINKED (BGLINKED) : 1,000+\n",
      "Zdravei.BG : 1,000+\n",
      "BGKontakti London BG Kontakti : 500+\n",
      "BGKontakti Bayern BG Kontakti : 1,000+\n",
      "BGKontakti Vienna BG Kontakti : 1,000+\n",
      "Discípulos em BH : 100+\n",
      "BH Connect : 1+\n",
      "Gayvox - Gay Lesbian Bi Dating : 500,000+\n",
      "Grindr - Gay chat : 10,000,000+\n",
      "Lesbian Chat & Dating - SPICY : 1,000,000+\n",
      "Alumni BJ : 100+\n",
      "BK Traffic Control cum Chart : 10,000+\n",
      "Daily Murli Saar Widget : 10,000+\n",
      "Myjob@BM : 100+\n",
      "bm-Events : 10+\n",
      "BOO! - Next Generation Messenger : 1,000,000+\n",
      "Wishbone - Compare Anything : 1,000,000+\n",
      "BR Chat Bot : 1,000+\n",
      "Br Browser : 500+\n",
      "Dr B R Ambedkar (Jai Bhim) : 100,000+\n",
      "Dr. B.R.Ambedkar : 100,000+\n",
      "Black Social : 1,000+\n",
      "BT Communicator : 10,000+\n",
      "BT Dating -Find your match, help cupid, be social : 50,000+\n",
      "Fiesta by Tango - Find, Meet and Make New Friends : 1,000,000+\n",
      "Evasion.bz : 100+\n",
      "CB Heroes : 5+\n",
      "CG Districts : 1,000+\n",
      "Digi-TV.ch : 10,000+\n",
      "Students.ch : 1,000+\n",
      "CJ Gospel Hour : 100+\n",
      "Pekalongan CJ : 0+\n",
      "Hashtags For Likes.co : 50,000+\n",
      "CP Dialer : 50,000+\n",
      "C.P. CERVANTES (TOBARRA) : 5+\n",
      "Cyprus Police : 10,000+\n",
      "Rande.cz : 50,000+\n",
      "signály.cz : 1,000+\n",
      "DB Event App : 5,000+\n",
      "DC Comics Amino : 1,000+\n",
      "DF BugMeNot : 500+\n",
      "Noticias DF : 1,000+\n",
      "Periscope - Live Video : 10,000,000+\n",
      "Daddyhunt: Gay Dating : 500,000+\n",
      "Free phone calls, free texting SMS on free number : 10,000,000+\n",
      "Phone Tracker : Family Locator : 10,000,000+\n",
      "HOLLA Live: Meet New People via Random Video Chat : 5,000,000+\n",
      "Dating.dk : 100,000+\n",
      "DK Murali : 500+\n",
      "GirlTalk.dk : 100+\n",
      "+Download 4 Instagram Twitter : 1,000,000+\n",
      "DM Me - Chat : 10,000+\n",
      "DM for IG 😘 - Image & Video Saver for Instagram : 5,000+\n",
      "Auto DM for Twitter 🔥 : 1,000+\n",
      "DM Storage (for twitter) : 100+\n",
      "Fake Chat (Direct Message) : 500,000+\n",
      "Otto DM : 10+\n",
      "DN Blog : 10+\n",
      "DP and Status for WhatsApp 2018 : 100,000+\n",
      "Dp For Whatsapp : 5,000+\n",
      "Profile Pictures and DP for Whatsapp : 5,000+\n",
      "Dp for Facebook : 5,000+\n",
      "Best DP and Status : 10,000+\n",
      "Instant DP Downloader for Instagram : 5,000+\n",
      "DP Display Pictures Life Quotes Motivational GM : 5,000+\n",
      "Qeek for Instagram - Zoom profile insta DP : 500,000+\n",
      "DV Statistics : 100+\n",
      "DW Streaming : 1,000+\n",
      "News Dz : 10+\n",
      "quran-DZ : 10+\n",
      "TN e Sevai TN EB Bill Patta Citta EC Birth All Hub : 5,000+\n",
      "TNEB Bill Online Payment (Tamil) : 5,000+\n",
      "UP EB Bill Payment & Details : 50+\n",
      "TN EC Online New : 1,000+\n",
      "TN Patta /Chitta /EC New : 100+\n",
      "EG Way Life : 50+\n",
      "Equestria Amino for MLP : 50,000+\n",
      "Ek Maratha : 10,000+\n",
      "Hum Ek Hain 2.02 : 10+\n",
      "Sabka Malik Ek Sai : 1,000+\n",
      "EO RAIPUR : 10+\n",
      "Anime et Manga Amino en Français : 50,000+\n",
      "Hornet - Gay Social Network : 5,000,000+\n",
      "Amino: Communities and Chats : 10,000,000+\n",
      "European Solidarity Corps : 1,000+\n",
      "Reisedealz.eu : 10+\n",
      "Eddsworld Amino : 10,000+\n",
      "Rejoin Your Ex : 100+\n",
      "Amleen Ey : 1+\n",
      "Coupe Adhémar EY 2017 : 50+\n",
      "EZ Video Download for Facebook : 1,000,000+\n",
      "Messages, Text and Video Chat for Messenger : 10,000,000+\n",
      "All Social Networks : 1,000,000+\n",
      "Messenger Messenger : 10,000,000+\n",
      "Facebook Creator : 1,000,000+\n",
      "Swift for Facebook Lite : 500,000+\n",
      "Friendly for Facebook : 1,000,000+\n",
      "Faster for Facebook Lite : 1,000,000+\n",
      "Puffin for Facebook : 500,000+\n",
      "Profile Tracker - Who Viewed My Facebook Profile : 500,000+\n",
      "Pink Color for Facebook : 500,000+\n",
      "Messenger : 10,000,000+\n",
      "Stickers for Imo, fb, whatsapp : 10,000+\n",
      "Who Viewed My Facebook Profile - Stalkers Visitors : 5,000,000+\n",
      "Downloader plus for FB : 500+\n",
      "MB Notifications for FB (Free) : 100,000+\n",
      "Phoenix - Facebook & Messenger : 100,000+\n",
      "Faster Social for Facebook : 100,000+\n",
      "Check Your Visitors on FB ? : 5,000+\n",
      "Stickers for Facebook : 1,000,000+\n",
      "Lite Messenger for Facebook Lite : 10,000+\n",
      "Mini for Facebook lite : 10,000+\n",
      "FB Advanced Search : 50+\n",
      "funny Image Comments for FB : 5,000+\n",
      "Unlimited Group Links - Whatsapp, FB, Telegram : 10,000+\n",
      "FCB Connect - FC Barcelona : 50,000+\n",
      "Frases Cristianas de Esperanza y Fe : 100+\n",
      "FutureNet your social app : 100,000+\n",
      "Alarm.fo – choose your info : 1,000+\n",
      "FunForMobile Ringtones & Chat : 5,000,000+\n",
      "Chat For Strangers - Video Chat : 100,000+\n",
      "Fr Daoud Lamei : 100,000+\n",
      "Naruto & Boruto FR : 100+\n",
      "Frim: get new friends on local chat rooms : 5,000,000+\n"
     ]
    }
   ],
   "source": [
    "for app in FrEngCl_googleplay:\n",
    "    n_installs = app[5].replace(',','+').replace('+','')\n",
    "    if app[1] == 'SOCIAL' and float(n_installs) < 100_000_000:\n",
    "        print(app[0], ':', app[5])"
   ]
  },
  {
   "cell_type": "raw",
   "metadata": {},
   "source": [
    "With various reasons to capture attent of users on the internet, so it's probably a good idea to build similar apps since there'll be some significant competition.\n",
    "\n",
    "Social media has become an indispensable part of people's lives, there are alot of reasons to capture more attentions of users on the internet. So it's probably a good idea to invest social apps. We know that there'll be some sharks: Instagram, facebook,... but how about \"social learning, self-study, chatting and dating app)."
   ]
  },
  {
   "cell_type": "markdown",
   "metadata": {},
   "source": [
    "# Conclusions"
   ]
  },
  {
   "cell_type": "raw",
   "metadata": {},
   "source": [
    "In this project, we analyzed data about the App Store and Google Play mobile apps with the goal of recommending an app profile that can be profitable for both markets.\n",
    "\n",
    "I concluded that buidling social learning, self-study and dating apps could be profitable for both Google Play and App Store Markets. Learners can track their study time on Statistic dashboard and they can meet strangers have the same motivation to study. A forum on app where people can discuss."
   ]
  }
 ],
 "metadata": {
  "kernelspec": {
   "display_name": "Python 3",
   "language": "python",
   "name": "python3"
  },
  "language_info": {
   "codemirror_mode": {
    "name": "ipython",
    "version": 3
   },
   "file_extension": ".py",
   "mimetype": "text/x-python",
   "name": "python",
   "nbconvert_exporter": "python",
   "pygments_lexer": "ipython3",
   "version": "3.8.2"
  }
 },
 "nbformat": 4,
 "nbformat_minor": 4
}
